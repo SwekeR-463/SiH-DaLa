{
 "cells": [
  {
   "cell_type": "code",
   "execution_count": 1,
   "id": "b73bfe57-9acd-47f5-9024-df6f652895b9",
   "metadata": {},
   "outputs": [],
   "source": [
    "import pandas as pd\n",
    "import numpy as np"
   ]
  },
  {
   "cell_type": "code",
   "execution_count": 2,
   "id": "eab8619a",
   "metadata": {},
   "outputs": [],
   "source": [
    "np.random.seed(42)"
   ]
  },
  {
   "cell_type": "markdown",
   "id": "7f294d9d",
   "metadata": {},
   "source": [
    "This sets the no. of data points we make."
   ]
  },
  {
   "cell_type": "code",
   "execution_count": 3,
   "id": "21129a83",
   "metadata": {},
   "outputs": [],
   "source": [
    "num_samples = 1000"
   ]
  },
  {
   "cell_type": "markdown",
   "id": "7e071930",
   "metadata": {},
   "source": [
    "Generating the dataset using Numpy"
   ]
  },
  {
   "cell_type": "markdown",
   "id": "177be811",
   "metadata": {},
   "source": [
    "np.random.normal is used to generate random data points with a mean value and a standard deviation value"
   ]
  },
  {
   "cell_type": "code",
   "execution_count": 4,
   "id": "17b96638-b06f-44db-93cd-aec89fcdbd31",
   "metadata": {},
   "outputs": [],
   "source": [
    "payload = np.random.normal(loc=145.205, scale=17.082, size=num_samples)\n",
    "\n",
    "round_trip_distance = np.random.normal(loc=5, scale=1, size=num_samples)  \n",
    "\n",
    "cycles_per_shift = np.random.normal(loc=1, scale=1, size=num_samples)  \n",
    "\n",
    "total_hours_operation = np.random.normal(loc=8, scale=1, size=num_samples) \n",
    "\n",
    "awss = (round_trip_distance * cycles_per_shift) / total_hours_operation\n",
    "\n",
    "temperature = np.random.normal(loc=30, scale=5, size=num_samples)  \n",
    "\n",
    "tire_pressure = np.random.normal(loc=100, scale=10, size=num_samples)"
   ]
  },
  {
   "cell_type": "markdown",
   "id": "bfda4048-0ac9-445c-8ac0-88a466b2dd3d",
   "metadata": {},
   "source": [
    "The ideal air pressure for a dumper truck tire depends on the truck's weight and other factors, but generally ranges from 8 to 9 bar (116–131 PSI). However, most truckers tend to inflate their tires to between 85 and 105 PSI, with 95 PSI being the most common"
   ]
  },
  {
   "cell_type": "code",
   "execution_count": 5,
   "id": "54daf156",
   "metadata": {},
   "outputs": [],
   "source": [
    "anomalies = np.random.choice([0, 1], size=num_samples, p=[0.90, 0.10])  \n",
    "tire_pressure = np.where(anomalies == 1, np.random.choice([np.random.uniform(60, 85), np.random.uniform(110, 140)], size=num_samples), tire_pressure)\n",
    "\n",
    "tire_pressure = np.clip(tire_pressure, 60, 140)\n",
    "\n",
    "anomaly = np.where((tire_pressure < 85) | (tire_pressure > 110), 1, 0)"
   ]
  },
  {
   "cell_type": "code",
   "execution_count": 6,
   "id": "fbb14ce9",
   "metadata": {},
   "outputs": [],
   "source": [
    "df = pd.DataFrame({\n",
    "    'Payload (Ton)': payload,\n",
    "    'Round-trip Distance (km)': round_trip_distance,\n",
    "    'Cycles/Shift': cycles_per_shift,\n",
    "    'Total Hours Operation/Shift': total_hours_operation,\n",
    "    'AWSS': awss,\n",
    "    'Tire Pressure (psi)': tire_pressure,\n",
    "    'Temperature (°C)': temperature,\n",
    "    'Anomaly': anomaly\n",
    "})\n"
   ]
  },
  {
   "cell_type": "markdown",
   "id": "fa0ee806",
   "metadata": {},
   "source": [
    "### Dataset Generated"
   ]
  },
  {
   "cell_type": "code",
   "execution_count": 7,
   "id": "51ef0c49",
   "metadata": {},
   "outputs": [
    {
     "data": {
      "text/html": [
       "<div>\n",
       "<style scoped>\n",
       "    .dataframe tbody tr th:only-of-type {\n",
       "        vertical-align: middle;\n",
       "    }\n",
       "\n",
       "    .dataframe tbody tr th {\n",
       "        vertical-align: top;\n",
       "    }\n",
       "\n",
       "    .dataframe thead th {\n",
       "        text-align: right;\n",
       "    }\n",
       "</style>\n",
       "<table border=\"1\" class=\"dataframe\">\n",
       "  <thead>\n",
       "    <tr style=\"text-align: right;\">\n",
       "      <th></th>\n",
       "      <th>Payload (Ton)</th>\n",
       "      <th>Round-trip Distance (km)</th>\n",
       "      <th>Cycles/Shift</th>\n",
       "      <th>Total Hours Operation/Shift</th>\n",
       "      <th>AWSS</th>\n",
       "      <th>Tire Pressure (psi)</th>\n",
       "      <th>Temperature (°C)</th>\n",
       "      <th>Anomaly</th>\n",
       "    </tr>\n",
       "  </thead>\n",
       "  <tbody>\n",
       "    <tr>\n",
       "      <th>0</th>\n",
       "      <td>153.689871</td>\n",
       "      <td>6.399355</td>\n",
       "      <td>0.324822</td>\n",
       "      <td>6.092192</td>\n",
       "      <td>0.341199</td>\n",
       "      <td>95.762403</td>\n",
       "      <td>25.682532</td>\n",
       "      <td>0</td>\n",
       "    </tr>\n",
       "    <tr>\n",
       "      <th>1</th>\n",
       "      <td>142.843169</td>\n",
       "      <td>5.924634</td>\n",
       "      <td>0.855481</td>\n",
       "      <td>7.139615</td>\n",
       "      <td>0.709900</td>\n",
       "      <td>95.465859</td>\n",
       "      <td>29.843983</td>\n",
       "      <td>0</td>\n",
       "    </tr>\n",
       "    <tr>\n",
       "      <th>2</th>\n",
       "      <td>156.268816</td>\n",
       "      <td>5.059630</td>\n",
       "      <td>0.207580</td>\n",
       "      <td>7.586394</td>\n",
       "      <td>0.138442</td>\n",
       "      <td>82.043568</td>\n",
       "      <td>30.090084</td>\n",
       "      <td>1</td>\n",
       "    </tr>\n",
       "    <tr>\n",
       "      <th>3</th>\n",
       "      <td>171.221396</td>\n",
       "      <td>4.353063</td>\n",
       "      <td>0.692038</td>\n",
       "      <td>9.887688</td>\n",
       "      <td>0.304671</td>\n",
       "      <td>96.699098</td>\n",
       "      <td>32.363152</td>\n",
       "      <td>0</td>\n",
       "    </tr>\n",
       "    <tr>\n",
       "      <th>4</th>\n",
       "      <td>141.205192</td>\n",
       "      <td>5.698223</td>\n",
       "      <td>-0.893615</td>\n",
       "      <td>8.556553</td>\n",
       "      <td>-0.595101</td>\n",
       "      <td>76.006273</td>\n",
       "      <td>23.165708</td>\n",
       "      <td>1</td>\n",
       "    </tr>\n",
       "  </tbody>\n",
       "</table>\n",
       "</div>"
      ],
      "text/plain": [
       "   Payload (Ton)  Round-trip Distance (km)  Cycles/Shift  \\\n",
       "0     153.689871                  6.399355      0.324822   \n",
       "1     142.843169                  5.924634      0.855481   \n",
       "2     156.268816                  5.059630      0.207580   \n",
       "3     171.221396                  4.353063      0.692038   \n",
       "4     141.205192                  5.698223     -0.893615   \n",
       "\n",
       "   Total Hours Operation/Shift      AWSS  Tire Pressure (psi)  \\\n",
       "0                     6.092192  0.341199            95.762403   \n",
       "1                     7.139615  0.709900            95.465859   \n",
       "2                     7.586394  0.138442            82.043568   \n",
       "3                     9.887688  0.304671            96.699098   \n",
       "4                     8.556553 -0.595101            76.006273   \n",
       "\n",
       "   Temperature (°C)  Anomaly  \n",
       "0         25.682532        0  \n",
       "1         29.843983        0  \n",
       "2         30.090084        1  \n",
       "3         32.363152        0  \n",
       "4         23.165708        1  "
      ]
     },
     "execution_count": 7,
     "metadata": {},
     "output_type": "execute_result"
    }
   ],
   "source": [
    "df.head()"
   ]
  },
  {
   "cell_type": "code",
   "execution_count": 8,
   "id": "f668de7e",
   "metadata": {},
   "outputs": [
    {
     "name": "stdout",
     "output_type": "stream",
     "text": [
      "<class 'pandas.core.frame.DataFrame'>\n",
      "RangeIndex: 1000 entries, 0 to 999\n",
      "Data columns (total 8 columns):\n",
      " #   Column                       Non-Null Count  Dtype  \n",
      "---  ------                       --------------  -----  \n",
      " 0   Payload (Ton)                1000 non-null   float64\n",
      " 1   Round-trip Distance (km)     1000 non-null   float64\n",
      " 2   Cycles/Shift                 1000 non-null   float64\n",
      " 3   Total Hours Operation/Shift  1000 non-null   float64\n",
      " 4   AWSS                         1000 non-null   float64\n",
      " 5   Tire Pressure (psi)          1000 non-null   float64\n",
      " 6   Temperature (°C)             1000 non-null   float64\n",
      " 7   Anomaly                      1000 non-null   int32  \n",
      "dtypes: float64(7), int32(1)\n",
      "memory usage: 58.7 KB\n"
     ]
    }
   ],
   "source": [
    "df.info()"
   ]
  },
  {
   "cell_type": "markdown",
   "id": "934570d0",
   "metadata": {},
   "source": [
    "Saving the dataset"
   ]
  },
  {
   "cell_type": "code",
   "execution_count": 9,
   "id": "8c66b47e",
   "metadata": {},
   "outputs": [],
   "source": [
    "df.to_csv('anomaly_detection.csv', index=False)"
   ]
  },
  {
   "cell_type": "code",
   "execution_count": 10,
   "id": "11be2a20",
   "metadata": {},
   "outputs": [],
   "source": [
    "X = df[['Payload (Ton)', 'AWSS', 'Tire Pressure (psi)', 'Temperature (°C)']]\n",
    "y = df['Anomaly']"
   ]
  },
  {
   "cell_type": "code",
   "execution_count": 11,
   "id": "fdbf3b9a",
   "metadata": {},
   "outputs": [],
   "source": [
    "from sklearn.model_selection import train_test_split\n",
    "\n",
    "X_train, X_test, y_train, y_test = train_test_split(X, y, test_size=0.2, random_state=42)"
   ]
  },
  {
   "cell_type": "markdown",
   "id": "c5cfe424",
   "metadata": {},
   "source": [
    "Making the model in Tensorflow"
   ]
  },
  {
   "cell_type": "code",
   "execution_count": 12,
   "id": "f9407bd7",
   "metadata": {},
   "outputs": [
    {
     "name": "stdout",
     "output_type": "stream",
     "text": [
      "WARNING:tensorflow:From C:\\Users\\RYZEN-5\\AppData\\Roaming\\Python\\Python311\\site-packages\\keras\\src\\losses.py:2976: The name tf.losses.sparse_softmax_cross_entropy is deprecated. Please use tf.compat.v1.losses.sparse_softmax_cross_entropy instead.\n",
      "\n",
      "WARNING:tensorflow:From C:\\Users\\RYZEN-5\\AppData\\Roaming\\Python\\Python311\\site-packages\\keras\\src\\backend.py:1398: The name tf.executing_eagerly_outside_functions is deprecated. Please use tf.compat.v1.executing_eagerly_outside_functions instead.\n",
      "\n",
      "WARNING:tensorflow:From C:\\Users\\RYZEN-5\\AppData\\Roaming\\Python\\Python311\\site-packages\\keras\\src\\optimizers\\__init__.py:309: The name tf.train.Optimizer is deprecated. Please use tf.compat.v1.train.Optimizer instead.\n",
      "\n",
      "Epoch 1/50\n",
      "WARNING:tensorflow:From C:\\Users\\RYZEN-5\\AppData\\Roaming\\Python\\Python311\\site-packages\\keras\\src\\utils\\tf_utils.py:492: The name tf.ragged.RaggedTensorValue is deprecated. Please use tf.compat.v1.ragged.RaggedTensorValue instead.\n",
      "\n",
      "WARNING:tensorflow:From C:\\Users\\RYZEN-5\\AppData\\Roaming\\Python\\Python311\\site-packages\\keras\\src\\engine\\base_layer_utils.py:384: The name tf.executing_eagerly_outside_functions is deprecated. Please use tf.compat.v1.executing_eagerly_outside_functions instead.\n",
      "\n",
      "20/20 [==============================] - 4s 36ms/step - loss: 8.7812 - accuracy: 0.5203 - val_loss: 3.6716 - val_accuracy: 0.7812\n",
      "Epoch 2/50\n",
      "20/20 [==============================] - 0s 11ms/step - loss: 3.6534 - accuracy: 0.6125 - val_loss: 2.4561 - val_accuracy: 0.5938\n",
      "Epoch 3/50\n",
      "20/20 [==============================] - 0s 9ms/step - loss: 2.6260 - accuracy: 0.6766 - val_loss: 1.8861 - val_accuracy: 0.6062\n",
      "Epoch 4/50\n",
      "20/20 [==============================] - 0s 9ms/step - loss: 2.0930 - accuracy: 0.6234 - val_loss: 1.3746 - val_accuracy: 0.5625\n",
      "Epoch 5/50\n",
      "20/20 [==============================] - 0s 9ms/step - loss: 1.3415 - accuracy: 0.6328 - val_loss: 0.7826 - val_accuracy: 0.7437\n",
      "Epoch 6/50\n",
      "20/20 [==============================] - 0s 10ms/step - loss: 0.8192 - accuracy: 0.6141 - val_loss: 0.5457 - val_accuracy: 0.7563\n",
      "Epoch 7/50\n",
      "20/20 [==============================] - 0s 9ms/step - loss: 0.6704 - accuracy: 0.6625 - val_loss: 0.5124 - val_accuracy: 0.7812\n",
      "Epoch 8/50\n",
      "20/20 [==============================] - 0s 9ms/step - loss: 0.5924 - accuracy: 0.7203 - val_loss: 0.4611 - val_accuracy: 0.8062\n",
      "Epoch 9/50\n",
      "20/20 [==============================] - 0s 10ms/step - loss: 0.5802 - accuracy: 0.7469 - val_loss: 0.4347 - val_accuracy: 0.8062\n",
      "Epoch 10/50\n",
      "20/20 [==============================] - 0s 11ms/step - loss: 0.5301 - accuracy: 0.7500 - val_loss: 0.4247 - val_accuracy: 0.8375\n",
      "Epoch 11/50\n",
      "20/20 [==============================] - 0s 11ms/step - loss: 0.4913 - accuracy: 0.7797 - val_loss: 0.4183 - val_accuracy: 0.8250\n",
      "Epoch 12/50\n",
      "20/20 [==============================] - 0s 13ms/step - loss: 0.4711 - accuracy: 0.7875 - val_loss: 0.4284 - val_accuracy: 0.8188\n",
      "Epoch 13/50\n",
      "20/20 [==============================] - 0s 10ms/step - loss: 0.4945 - accuracy: 0.7688 - val_loss: 0.4472 - val_accuracy: 0.8250\n",
      "Epoch 14/50\n",
      "20/20 [==============================] - 0s 11ms/step - loss: 0.4686 - accuracy: 0.7859 - val_loss: 0.4145 - val_accuracy: 0.8125\n",
      "Epoch 15/50\n",
      "20/20 [==============================] - 0s 9ms/step - loss: 0.4687 - accuracy: 0.7766 - val_loss: 0.4219 - val_accuracy: 0.8313\n",
      "Epoch 16/50\n",
      "20/20 [==============================] - 0s 10ms/step - loss: 0.4595 - accuracy: 0.8031 - val_loss: 0.4231 - val_accuracy: 0.8188\n",
      "Epoch 17/50\n",
      "20/20 [==============================] - 0s 10ms/step - loss: 0.4526 - accuracy: 0.8156 - val_loss: 0.4485 - val_accuracy: 0.8062\n",
      "Epoch 18/50\n",
      "20/20 [==============================] - 0s 9ms/step - loss: 0.4768 - accuracy: 0.7969 - val_loss: 0.4090 - val_accuracy: 0.8313\n",
      "Epoch 19/50\n",
      "20/20 [==============================] - 0s 11ms/step - loss: 0.4623 - accuracy: 0.8000 - val_loss: 0.4151 - val_accuracy: 0.8188\n",
      "Epoch 20/50\n",
      "20/20 [==============================] - 0s 9ms/step - loss: 0.4585 - accuracy: 0.7953 - val_loss: 0.4119 - val_accuracy: 0.8125\n",
      "Epoch 21/50\n",
      "20/20 [==============================] - 0s 9ms/step - loss: 0.4860 - accuracy: 0.7734 - val_loss: 0.5843 - val_accuracy: 0.7188\n",
      "Epoch 22/50\n",
      "20/20 [==============================] - 0s 9ms/step - loss: 0.5206 - accuracy: 0.7688 - val_loss: 0.4043 - val_accuracy: 0.8125\n",
      "Epoch 23/50\n",
      "20/20 [==============================] - 0s 10ms/step - loss: 0.4525 - accuracy: 0.7937 - val_loss: 0.4561 - val_accuracy: 0.8188\n",
      "Epoch 24/50\n",
      "20/20 [==============================] - 0s 10ms/step - loss: 0.4982 - accuracy: 0.7672 - val_loss: 0.5638 - val_accuracy: 0.7125\n",
      "Epoch 25/50\n",
      "20/20 [==============================] - 0s 16ms/step - loss: 0.5052 - accuracy: 0.7437 - val_loss: 0.5397 - val_accuracy: 0.7500\n",
      "Epoch 26/50\n",
      "20/20 [==============================] - 0s 11ms/step - loss: 0.4811 - accuracy: 0.7844 - val_loss: 0.4775 - val_accuracy: 0.7750\n",
      "Epoch 27/50\n",
      "20/20 [==============================] - 0s 9ms/step - loss: 0.4835 - accuracy: 0.7844 - val_loss: 0.4279 - val_accuracy: 0.7937\n",
      "Epoch 28/50\n",
      "20/20 [==============================] - 0s 10ms/step - loss: 0.4724 - accuracy: 0.7781 - val_loss: 0.4002 - val_accuracy: 0.8188\n",
      "Epoch 29/50\n",
      "20/20 [==============================] - 0s 9ms/step - loss: 0.4487 - accuracy: 0.8016 - val_loss: 0.3985 - val_accuracy: 0.8188\n",
      "Epoch 30/50\n",
      "20/20 [==============================] - 0s 8ms/step - loss: 0.5150 - accuracy: 0.7625 - val_loss: 0.4433 - val_accuracy: 0.8000\n",
      "Epoch 31/50\n",
      "20/20 [==============================] - 0s 8ms/step - loss: 0.5359 - accuracy: 0.7703 - val_loss: 0.5239 - val_accuracy: 0.7563\n",
      "Epoch 32/50\n",
      "20/20 [==============================] - 0s 9ms/step - loss: 0.5161 - accuracy: 0.7641 - val_loss: 0.5360 - val_accuracy: 0.7500\n",
      "Epoch 33/50\n",
      "20/20 [==============================] - 0s 10ms/step - loss: 0.4704 - accuracy: 0.7969 - val_loss: 0.4123 - val_accuracy: 0.8125\n",
      "Epoch 34/50\n",
      "20/20 [==============================] - 0s 12ms/step - loss: 0.4398 - accuracy: 0.8078 - val_loss: 0.4328 - val_accuracy: 0.8125\n",
      "Epoch 35/50\n",
      "20/20 [==============================] - 0s 10ms/step - loss: 0.4555 - accuracy: 0.7828 - val_loss: 0.3985 - val_accuracy: 0.8188\n",
      "Epoch 36/50\n",
      "20/20 [==============================] - 0s 11ms/step - loss: 0.4461 - accuracy: 0.8078 - val_loss: 0.4153 - val_accuracy: 0.8125\n",
      "Epoch 37/50\n",
      "20/20 [==============================] - 0s 10ms/step - loss: 0.4877 - accuracy: 0.7812 - val_loss: 0.4401 - val_accuracy: 0.8062\n",
      "Epoch 38/50\n",
      "20/20 [==============================] - 0s 9ms/step - loss: 0.4907 - accuracy: 0.7844 - val_loss: 0.5010 - val_accuracy: 0.7812\n",
      "Epoch 39/50\n",
      "20/20 [==============================] - 0s 9ms/step - loss: 0.4442 - accuracy: 0.8078 - val_loss: 0.4078 - val_accuracy: 0.8313\n",
      "Epoch 40/50\n",
      "20/20 [==============================] - 0s 8ms/step - loss: 0.5094 - accuracy: 0.7609 - val_loss: 0.4261 - val_accuracy: 0.8062\n",
      "Epoch 41/50\n",
      "20/20 [==============================] - 0s 8ms/step - loss: 0.4614 - accuracy: 0.7766 - val_loss: 0.4750 - val_accuracy: 0.8188\n",
      "Epoch 42/50\n",
      "20/20 [==============================] - 0s 9ms/step - loss: 0.4769 - accuracy: 0.7937 - val_loss: 0.4397 - val_accuracy: 0.8125\n",
      "Epoch 43/50\n",
      "20/20 [==============================] - 0s 8ms/step - loss: 0.4669 - accuracy: 0.7875 - val_loss: 0.3953 - val_accuracy: 0.8125\n",
      "Epoch 44/50\n",
      "20/20 [==============================] - 0s 9ms/step - loss: 0.4483 - accuracy: 0.8016 - val_loss: 0.3984 - val_accuracy: 0.8250\n",
      "Epoch 45/50\n",
      "20/20 [==============================] - 0s 8ms/step - loss: 0.4642 - accuracy: 0.7937 - val_loss: 0.3933 - val_accuracy: 0.8250\n",
      "Epoch 46/50\n",
      "20/20 [==============================] - 0s 8ms/step - loss: 0.4570 - accuracy: 0.8016 - val_loss: 0.4816 - val_accuracy: 0.8000\n",
      "Epoch 47/50\n",
      "20/20 [==============================] - 0s 9ms/step - loss: 0.4661 - accuracy: 0.7922 - val_loss: 0.4175 - val_accuracy: 0.8313\n",
      "Epoch 48/50\n",
      "20/20 [==============================] - 0s 8ms/step - loss: 0.4630 - accuracy: 0.7906 - val_loss: 0.4376 - val_accuracy: 0.8188\n",
      "Epoch 49/50\n",
      "20/20 [==============================] - 0s 8ms/step - loss: 0.4546 - accuracy: 0.7984 - val_loss: 0.4163 - val_accuracy: 0.8188\n",
      "Epoch 50/50\n",
      "20/20 [==============================] - 0s 8ms/step - loss: 0.4871 - accuracy: 0.7953 - val_loss: 0.4233 - val_accuracy: 0.8188\n"
     ]
    },
    {
     "name": "stderr",
     "output_type": "stream",
     "text": [
      "C:\\Users\\RYZEN-5\\AppData\\Roaming\\Python\\Python311\\site-packages\\keras\\src\\engine\\training.py:3103: UserWarning: You are saving your model as an HDF5 file via `model.save()`. This file format is considered legacy. We recommend using instead the native Keras format, e.g. `model.save('my_model.keras')`.\n",
      "  saving_api.save_model(\n"
     ]
    }
   ],
   "source": [
    "import tensorflow as tf\n",
    "from tensorflow.keras import layers\n",
    "from tensorflow.keras.models import Sequential\n",
    "\n",
    "\n",
    "# Create a simple neural network that approximates the decision tree\n",
    "model = tf.keras.Sequential([\n",
    "    layers.Input(shape=(X_train.shape[1],)),\n",
    "    layers.Dense(32, activation='relu'),\n",
    "    layers.Dense(16, activation='relu'),\n",
    "    layers.Dense(len(set(y_train)), activation='softmax')  # Assuming a classification task\n",
    "])\n",
    "\n",
    "model.compile(optimizer='adam', loss='sparse_categorical_crossentropy', metrics=['accuracy'])\n",
    "\n",
    "# Train the model\n",
    "model.fit(X_train, y_train, epochs=50, batch_size=32, validation_split=0.2)\n",
    "\n",
    "# Save the TensorFlow model\n",
    "model.save('tf_model.h5')"
   ]
  },
  {
   "cell_type": "markdown",
   "id": "9931a400",
   "metadata": {},
   "source": [
    "#### Test Accuracy of 81%"
   ]
  },
  {
   "cell_type": "markdown",
   "id": "044369a8",
   "metadata": {},
   "source": [
    "Converting the saved model into .tflite format so that it can be used in the app"
   ]
  },
  {
   "cell_type": "code",
   "execution_count": 13,
   "id": "59533c9b",
   "metadata": {},
   "outputs": [
    {
     "name": "stdout",
     "output_type": "stream",
     "text": [
      "INFO:tensorflow:Assets written to: C:\\Users\\RYZEN-5\\AppData\\Local\\Temp\\tmpmdcfjfq0\\assets\n"
     ]
    },
    {
     "name": "stderr",
     "output_type": "stream",
     "text": [
      "INFO:tensorflow:Assets written to: C:\\Users\\RYZEN-5\\AppData\\Local\\Temp\\tmpmdcfjfq0\\assets\n"
     ]
    }
   ],
   "source": [
    "# Load the saved TensorFlow model\n",
    "loaded_model = tf.keras.models.load_model('tf_model.h5')\n",
    "\n",
    "# Convert the model to TensorFlow Lite\n",
    "converter = tf.lite.TFLiteConverter.from_keras_model(loaded_model)\n",
    "tflite_model = converter.convert()\n",
    "\n",
    "# Save the TensorFlow Lite model\n",
    "with open('model.tflite', 'wb') as f:\n",
    "    f.write(tflite_model)"
   ]
  },
  {
   "cell_type": "markdown",
   "id": "943fad90",
   "metadata": {},
   "source": [
    "Sample Function to check whether the model works "
   ]
  },
  {
   "cell_type": "code",
   "execution_count": 14,
   "id": "f0bcae40",
   "metadata": {},
   "outputs": [],
   "source": [
    "import numpy as np\n",
    "\n",
    "def detect_anomaly(payload, awss, tire_pressure, temperature, model):\n",
    "    input_data = np.array([[payload, awss, tire_pressure, temperature]])\n",
    "    prediction = model.predict(input_data)\n",
    "    \n",
    "    # For binary classification (e.g., sigmoid activation)\n",
    "    if prediction.shape[1] == 1:\n",
    "        confidence = prediction[0][0]\n",
    "        is_anomaly = confidence > 0.5\n",
    "    else:  # For multi-class classification (e.g., softmax activation)\n",
    "        confidence = np.max(prediction[0])\n",
    "        is_anomaly = np.argmax(prediction[0]) == 1\n",
    "    \n",
    "    return is_anomaly, confidence\n"
   ]
  },
  {
   "cell_type": "code",
   "execution_count": 22,
   "id": "006b00c9",
   "metadata": {},
   "outputs": [
    {
     "name": "stdout",
     "output_type": "stream",
     "text": [
      "1/1 [==============================] - 0s 102ms/step\n",
      "Anomaly Detected: True, Confidence: 0.68\n"
     ]
    }
   ],
   "source": [
    "is_anomaly, confidence = detect_anomaly(173.68, 0.34, 77.76, 25.68, model)\n",
    "print(f\"Anomaly Detected: {is_anomaly}, Confidence: {confidence:.2f}\")"
   ]
  }
 ],
 "metadata": {
  "kernelspec": {
   "display_name": "Python 3 (ipykernel)",
   "language": "python",
   "name": "python3"
  },
  "language_info": {
   "codemirror_mode": {
    "name": "ipython",
    "version": 3
   },
   "file_extension": ".py",
   "mimetype": "text/x-python",
   "name": "python",
   "nbconvert_exporter": "python",
   "pygments_lexer": "ipython3",
   "version": "3.11.9"
  }
 },
 "nbformat": 4,
 "nbformat_minor": 5
}
