{
 "cells": [
  {
   "cell_type": "code",
   "execution_count": 9,
   "id": "b73bfe57-9acd-47f5-9024-df6f652895b9",
   "metadata": {},
   "outputs": [],
   "source": [
    "import pandas as pd\n",
    "import numpy as np"
   ]
  },
  {
   "cell_type": "code",
   "execution_count": 10,
   "id": "eab8619a",
   "metadata": {},
   "outputs": [],
   "source": [
    "np.random.seed(42)"
   ]
  },
  {
   "cell_type": "code",
   "execution_count": 11,
   "id": "21129a83",
   "metadata": {},
   "outputs": [],
   "source": [
    "num_samples = 1000"
   ]
  },
  {
   "cell_type": "code",
   "execution_count": 12,
   "id": "17b96638-b06f-44db-93cd-aec89fcdbd31",
   "metadata": {},
   "outputs": [],
   "source": [
    "payload = np.random.normal(loc=145.205, scale=17.082, size=num_samples)\n",
    "\n",
    "round_trip_distance = np.random.normal(loc=5, scale=1, size=num_samples)  \n",
    "\n",
    "cycles_per_shift = np.random.normal(loc=1, scale=1, size=num_samples)  \n",
    "\n",
    "total_hours_operation = np.random.normal(loc=8, scale=1, size=num_samples) \n",
    "\n",
    "awss = (round_trip_distance * cycles_per_shift) / total_hours_operation\n",
    "\n",
    "temperature = np.random.normal(loc=30, scale=5, size=num_samples)  \n",
    "\n",
    "tire_pressure = np.random.normal(loc=100, scale=10, size=num_samples)"
   ]
  },
  {
   "cell_type": "markdown",
   "id": "bfda4048-0ac9-445c-8ac0-88a466b2dd3d",
   "metadata": {},
   "source": [
    "The ideal air pressure for a dumper truck tire depends on the truck's weight and other factors, but generally ranges from 8 to 9 bar (116–131 PSI). However, most truckers tend to inflate their tires to between 85 and 105 PSI, with 95 PSI being the most common"
   ]
  },
  {
   "cell_type": "code",
   "execution_count": 13,
   "id": "54daf156",
   "metadata": {},
   "outputs": [],
   "source": [
    "anomalies = np.random.choice([0, 1], size=num_samples, p=[0.90, 0.10])  \n",
    "tire_pressure = np.where(anomalies == 1, np.random.choice([np.random.uniform(60, 85), np.random.uniform(110, 140)], size=num_samples), tire_pressure)\n",
    "\n",
    "tire_pressure = np.clip(tire_pressure, 60, 140)\n",
    "\n",
    "anomaly = np.where((tire_pressure < 85) | (tire_pressure > 110), 1, 0)"
   ]
  },
  {
   "cell_type": "code",
   "execution_count": 14,
   "id": "fbb14ce9",
   "metadata": {},
   "outputs": [],
   "source": [
    "df = pd.DataFrame({\n",
    "    'Payload (Ton)': payload,\n",
    "    'Round-trip Distance (km)': round_trip_distance,\n",
    "    'Cycles/Shift': cycles_per_shift,\n",
    "    'Total Hours Operation/Shift': total_hours_operation,\n",
    "    'AWSS': awss,\n",
    "    'Tire Pressure (psi)': tire_pressure,\n",
    "    'Temperature (°C)': temperature,\n",
    "    'Anomaly': anomaly\n",
    "})\n"
   ]
  },
  {
   "cell_type": "code",
   "execution_count": 15,
   "id": "51ef0c49",
   "metadata": {},
   "outputs": [
    {
     "data": {
      "text/html": [
       "<div>\n",
       "<style scoped>\n",
       "    .dataframe tbody tr th:only-of-type {\n",
       "        vertical-align: middle;\n",
       "    }\n",
       "\n",
       "    .dataframe tbody tr th {\n",
       "        vertical-align: top;\n",
       "    }\n",
       "\n",
       "    .dataframe thead th {\n",
       "        text-align: right;\n",
       "    }\n",
       "</style>\n",
       "<table border=\"1\" class=\"dataframe\">\n",
       "  <thead>\n",
       "    <tr style=\"text-align: right;\">\n",
       "      <th></th>\n",
       "      <th>Payload (Ton)</th>\n",
       "      <th>Round-trip Distance (km)</th>\n",
       "      <th>Cycles/Shift</th>\n",
       "      <th>Total Hours Operation/Shift</th>\n",
       "      <th>AWSS</th>\n",
       "      <th>Tire Pressure (psi)</th>\n",
       "      <th>Temperature (°C)</th>\n",
       "      <th>Anomaly</th>\n",
       "    </tr>\n",
       "  </thead>\n",
       "  <tbody>\n",
       "    <tr>\n",
       "      <th>0</th>\n",
       "      <td>153.689871</td>\n",
       "      <td>6.399355</td>\n",
       "      <td>0.324822</td>\n",
       "      <td>6.092192</td>\n",
       "      <td>0.341199</td>\n",
       "      <td>95.762403</td>\n",
       "      <td>25.682532</td>\n",
       "      <td>0</td>\n",
       "    </tr>\n",
       "    <tr>\n",
       "      <th>1</th>\n",
       "      <td>142.843169</td>\n",
       "      <td>5.924634</td>\n",
       "      <td>0.855481</td>\n",
       "      <td>7.139615</td>\n",
       "      <td>0.709900</td>\n",
       "      <td>95.465859</td>\n",
       "      <td>29.843983</td>\n",
       "      <td>0</td>\n",
       "    </tr>\n",
       "    <tr>\n",
       "      <th>2</th>\n",
       "      <td>156.268816</td>\n",
       "      <td>5.059630</td>\n",
       "      <td>0.207580</td>\n",
       "      <td>7.586394</td>\n",
       "      <td>0.138442</td>\n",
       "      <td>82.043568</td>\n",
       "      <td>30.090084</td>\n",
       "      <td>1</td>\n",
       "    </tr>\n",
       "    <tr>\n",
       "      <th>3</th>\n",
       "      <td>171.221396</td>\n",
       "      <td>4.353063</td>\n",
       "      <td>0.692038</td>\n",
       "      <td>9.887688</td>\n",
       "      <td>0.304671</td>\n",
       "      <td>96.699098</td>\n",
       "      <td>32.363152</td>\n",
       "      <td>0</td>\n",
       "    </tr>\n",
       "    <tr>\n",
       "      <th>4</th>\n",
       "      <td>141.205192</td>\n",
       "      <td>5.698223</td>\n",
       "      <td>-0.893615</td>\n",
       "      <td>8.556553</td>\n",
       "      <td>-0.595101</td>\n",
       "      <td>76.006273</td>\n",
       "      <td>23.165708</td>\n",
       "      <td>1</td>\n",
       "    </tr>\n",
       "  </tbody>\n",
       "</table>\n",
       "</div>"
      ],
      "text/plain": [
       "   Payload (Ton)  Round-trip Distance (km)  Cycles/Shift  \\\n",
       "0     153.689871                  6.399355      0.324822   \n",
       "1     142.843169                  5.924634      0.855481   \n",
       "2     156.268816                  5.059630      0.207580   \n",
       "3     171.221396                  4.353063      0.692038   \n",
       "4     141.205192                  5.698223     -0.893615   \n",
       "\n",
       "   Total Hours Operation/Shift      AWSS  Tire Pressure (psi)  \\\n",
       "0                     6.092192  0.341199            95.762403   \n",
       "1                     7.139615  0.709900            95.465859   \n",
       "2                     7.586394  0.138442            82.043568   \n",
       "3                     9.887688  0.304671            96.699098   \n",
       "4                     8.556553 -0.595101            76.006273   \n",
       "\n",
       "   Temperature (°C)  Anomaly  \n",
       "0         25.682532        0  \n",
       "1         29.843983        0  \n",
       "2         30.090084        1  \n",
       "3         32.363152        0  \n",
       "4         23.165708        1  "
      ]
     },
     "execution_count": 15,
     "metadata": {},
     "output_type": "execute_result"
    }
   ],
   "source": [
    "df.head()"
   ]
  },
  {
   "cell_type": "code",
   "execution_count": 16,
   "id": "8c66b47e",
   "metadata": {},
   "outputs": [],
   "source": [
    "#df.to_csv('dumper_tire_anomaly_detection.csv', index=False)"
   ]
  }
 ],
 "metadata": {
  "kernelspec": {
   "display_name": "Python 3 (ipykernel)",
   "language": "python",
   "name": "python3"
  },
  "language_info": {
   "codemirror_mode": {
    "name": "ipython",
    "version": 3
   },
   "file_extension": ".py",
   "mimetype": "text/x-python",
   "name": "python",
   "nbconvert_exporter": "python",
   "pygments_lexer": "ipython3",
   "version": "3.11.3"
  }
 },
 "nbformat": 4,
 "nbformat_minor": 5
}
